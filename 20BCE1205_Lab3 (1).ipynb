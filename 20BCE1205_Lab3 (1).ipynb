{
  "nbformat": 4,
  "nbformat_minor": 0,
  "metadata": {
    "colab": {
      "provenance": []
    },
    "kernelspec": {
      "name": "python3",
      "display_name": "Python 3"
    },
    "language_info": {
      "name": "python"
    }
  },
  "cells": [
    {
      "cell_type": "markdown",
      "source": [
        "Question: Implement Multiple Linear Regression for the attached dataset by splitting the dataset into training and test dataset..\n",
        "\n",
        "1.  Apply MLR using scikit learn library function and predict the accuracy.\n",
        "\n",
        "2. Apply MLR without using any library functions and predict the accuracy\n",
        "\n",
        "3. Compare the accuracy of 1. and 2 and justify the result."
      ],
      "metadata": {
        "id": "Kk2SLjUy-d4C"
      }
    },
    {
      "cell_type": "markdown",
      "source": [
        "#Using sklearn"
      ],
      "metadata": {
        "id": "GXCSKpNu-j6x"
      }
    },
    {
      "cell_type": "code",
      "source": [
        "import pandas as pd\n",
        "import numpy as np\n",
        "import matplotlib.pyplot as plt\n",
        "%matplotlib inline\n",
        "import seaborn as sns\n",
        "from sklearn.model_selection import train_test_split\n",
        "from sklearn.linear_model import LinearRegression\n",
        "from sklearn.metrics import mean_squared_error,mean_absolute_error\n",
        "from sklearn import preprocessing\n",
        "from sklearn.metrics import r2_score"
      ],
      "metadata": {
        "id": "G7MDh2Qd65dB"
      },
      "execution_count": null,
      "outputs": []
    },
    {
      "cell_type": "code",
      "source": [
        "df1=pd.read_csv('/content/Admission_Predict.csv')\n",
        "X = df1.drop(['Serial No.','Chance of Admit '],axis= 1)\n",
        "y = df1['Chance of Admit ']\n",
        "print(X)\n",
        "print(y)\n",
        "X_train, X_test, y_train, y_test = train_test_split(X, y, test_size=0.3, random_state=101)\n",
        "model = LinearRegression()\n",
        "model.fit(X_train,y_train)\n",
        "predictions = model.predict(X_test)\n",
        "print('mean_squared_error : ', mean_squared_error(y_test, predictions))\n",
        "print('mean_absolute_error : ', mean_absolute_error(y_test, predictions))\n",
        "print(\"R2-score: %.2f (RMSE):\" , r2_score(y_test, predictions) )"
      ],
      "metadata": {
        "colab": {
          "base_uri": "https://localhost:8080/"
        },
        "id": "uqOMcXf-66V6",
        "outputId": "612588f2-f2da-4601-d3c7-1521ba0af0cc"
      },
      "execution_count": null,
      "outputs": [
        {
          "output_type": "stream",
          "name": "stdout",
          "text": [
            "     GRE Score  TOEFL Score  University Rating  SOP  LOR   CGPA  Research\n",
            "0          337          118                  4  4.5   4.5  9.65         1\n",
            "1          324          107                  4  4.0   4.5  8.87         1\n",
            "2          316          104                  3  3.0   3.5  8.00         1\n",
            "3          322          110                  3  3.5   2.5  8.67         1\n",
            "4          314          103                  2  2.0   3.0  8.21         0\n",
            "..         ...          ...                ...  ...   ...   ...       ...\n",
            "395        324          110                  3  3.5   3.5  9.04         1\n",
            "396        325          107                  3  3.0   3.5  9.11         1\n",
            "397        330          116                  4  5.0   4.5  9.45         1\n",
            "398        312          103                  3  3.5   4.0  8.78         0\n",
            "399        333          117                  4  5.0   4.0  9.66         1\n",
            "\n",
            "[400 rows x 7 columns]\n",
            "0      0.92\n",
            "1      0.76\n",
            "2      0.72\n",
            "3      0.80\n",
            "4      0.65\n",
            "       ... \n",
            "395    0.82\n",
            "396    0.84\n",
            "397    0.91\n",
            "398    0.67\n",
            "399    0.95\n",
            "Name: Chance of Admit , Length: 400, dtype: float64\n",
            "mean_squared_error :  0.004801709701318088\n",
            "mean_absolute_error :  0.04759939309184958\n",
            "R2-score: %.2f (RMSE): 0.7391965811198316\n"
          ]
        }
      ]
    },
    {
      "cell_type": "markdown",
      "source": [
        "#Without Using sklearn"
      ],
      "metadata": {
        "id": "L6ujfOcp94vo"
      }
    },
    {
      "cell_type": "code",
      "source": [
        "x = df1.iloc[:,:-1].values\n",
        "y = df1.iloc[:,-1].values\n",
        "from sklearn.preprocessing import StandardScaler\n",
        "sc = StandardScaler()\n",
        "x = sc.fit_transform(x)\n",
        "Xtrain, Xtest, Ytrain, Ytest = train_test_split( x, y, test_size = 0.3,random_state=101)"
      ],
      "metadata": {
        "id": "JlyJJUr094L5"
      },
      "execution_count": null,
      "outputs": []
    },
    {
      "cell_type": "code",
      "source": [
        "def ChanceFunction(x,y,w,b):\n",
        "    chance = np.sum((((x.dot(w) + b) - y) ** 2) / (2*len(y)))\n",
        "    return chance\n",
        "def GradientDescent(x, y, w, b, learning_rate, epochs):\n",
        "    cost_list = [0] * epochs\n",
        "    for epoch in range(epochs):\n",
        "        z = x.dot(w) + b\n",
        "        loss = z - y   \n",
        "        weight_gradient = x.T.dot(loss) / len(y)\n",
        "        bias_gradient = np.sum(loss) / len(y)   \n",
        "        w = w - learning_rate*weight_gradient\n",
        "        b = b - learning_rate*bias_gradient\n",
        "        cost = ChanceFunction(x, y, w, b)\n",
        "        cost_list[epoch] = cost      \n",
        "        if (epoch%(epochs/10)==0):\n",
        "            print(\"Chance is : \",cost)      \n",
        "    return w, b, cost_list\n",
        "w, b, c= GradientDescent(Xtrain, Ytrain, np.zeros(Xtrain.shape[1]), 0, 0.002,epochs=15000)"
      ],
      "metadata": {
        "colab": {
          "base_uri": "https://localhost:8080/"
        },
        "id": "PqDYxzvZAsAp",
        "outputId": "a7d44a37-bbe7-47c3-ba66-7e77bf178d1b"
      },
      "execution_count": null,
      "outputs": [
        {
          "output_type": "stream",
          "name": "stdout",
          "text": [
            "Chance is :  0.281117283352708\n",
            "Chance is :  0.002508346736662972\n",
            "Chance is :  0.0017411337540491957\n",
            "Chance is :  0.0017298518526890575\n",
            "Chance is :  0.0017281469827862628\n",
            "Chance is :  0.0017276021382782412\n",
            "Chance is :  0.0017273960195330464\n",
            "Chance is :  0.0017273139715735584\n",
            "Chance is :  0.0017272803975796301\n",
            "Chance is :  0.0017272663944848153\n"
          ]
        }
      ]
    },
    {
      "cell_type": "code",
      "source": [
        "def predict(X, w, b):\n",
        "    return X.dot(w) + b\n",
        "y_pred = predict(Xtest, w, b)\n",
        "def r2score(y_pred, y):\n",
        "    rss = np.sum((y_pred - y) ** 2)\n",
        "    tss = np.sum((y-y.mean()) ** 2)\n",
        "    \n",
        "    r2 = 1 - (rss / tss)\n",
        "    return r2\n",
        "r2score(y_pred, Ytest)"
      ],
      "metadata": {
        "colab": {
          "base_uri": "https://localhost:8080/"
        },
        "id": "hII9mEqxUms0",
        "outputId": "d08d0ee8-98b2-409f-8b5c-135c192a14cf"
      },
      "execution_count": null,
      "outputs": [
        {
          "output_type": "execute_result",
          "data": {
            "text/plain": [
              "0.761289750994438"
            ]
          },
          "metadata": {},
          "execution_count": 11
        }
      ]
    },
    {
      "cell_type": "markdown",
      "source": [
        "#Accurcy with using sklearn is 73.9% and Accuracy without sklearn is 76.1%"
      ],
      "metadata": {
        "id": "nK7XIx1-VA21"
      }
    }
  ]
}