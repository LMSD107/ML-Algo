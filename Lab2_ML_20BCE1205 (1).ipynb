{
  "nbformat": 4,
  "nbformat_minor": 0,
  "metadata": {
    "colab": {
      "provenance": [],
      "collapsed_sections": []
    },
    "kernelspec": {
      "name": "python3",
      "display_name": "Python 3"
    },
    "language_info": {
      "name": "python"
    }
  },
  "cells": [
    {
      "cell_type": "markdown",
      "source": [
        "#IMPORT "
      ],
      "metadata": {
        "id": "jtz6e1rnWeFj"
      }
    },
    {
      "cell_type": "code",
      "source": [
        "import matplotlib.pyplot as plt\n",
        "import numpy as np\n",
        "import pandas as pd\n",
        "%matplotlib inline"
      ],
      "metadata": {
        "id": "qItT1H5rWjs4"
      },
      "execution_count": null,
      "outputs": []
    },
    {
      "cell_type": "markdown",
      "source": [
        "#Question 1:Apply linear regression and find the predicted Y for the below data. Apply any metric and display the accuracy of the predicted y.\n",
        "\n",
        "X: 1 2 3 4 5\n",
        "\n",
        "---\n",
        "Y: 2 1 3 6 9\n",
        "\n"
      ],
      "metadata": {
        "id": "EU9IEZaSWpSq"
      }
    },
    {
      "cell_type": "markdown",
      "source": [
        "#(i) Using sklearn and metric."
      ],
      "metadata": {
        "id": "K3UIolYiZoNa"
      }
    },
    {
      "cell_type": "code",
      "source": [
        "datafile = pd.DataFrame()\n",
        "datafile[0]=[1,2,3,4,5]\n",
        "datafile[1]=[2,1,3,6,9]\n",
        "datafile.columns =[\"X\",\"Y\"]\n",
        "print(datafile)\n",
        "\n",
        "from sklearn import linear_model\n",
        "regress = linear_model.LinearRegression()\n",
        "train_x = np.asanyarray(datafile[['X']])\n",
        "train_y = np.asanyarray(datafile[['Y']])\n",
        "regress.fit (train_x,train_y)\n",
        "print ('Coefficients: ', regress.coef_)\n",
        "print ('Intercept: ',regress.intercept_)\n",
        "y_predicted = regress.predict(train_x)\n",
        "datafile['Predicted Y'] = y_predicted\n",
        "\n",
        "A=[]\n",
        "d=0\n",
        "for i in datafile['X']:\n",
        "  j=datafile.loc[d,'Y']\n",
        "  k=datafile.loc[d,'Predicted Y']\n",
        "  c=((k-j)/j)*100\n",
        "  A.insert(d,c)\n",
        "  d+=1\n",
        "datafile['Accuracy']=A\n",
        "print(datafile)\n",
        "print(\"Average Accuracy: \",datafile['Accuracy'].mean())\n",
        "\n",
        "#METRICS\n",
        "from sklearn import metrics\n",
        "print('\\nMean Absolute Error:', metrics.mean_absolute_error(train_y, y_predicted))\n",
        "print('Mean Squared Error:', metrics.mean_squared_error(train_y, y_predicted))\n",
        "print('Root Mean Squared Error:', np.sqrt(metrics.mean_squared_error(train_y, y_predicted)))\n",
        "from sklearn.metrics import r2_score\n",
        "print(\"R2-score: %.2f (RMSE):\" , r2_score(train_y,y_predicted) )\n",
        "\n",
        "\n",
        "plt.scatter(datafile.X, datafile.Y,  color='blue',label=\"Actual\")\n",
        "plt.plot(train_x, regress.coef_[0][0]*train_x + regress.intercept_[0], '-r',label=\"Predicted\")\n",
        "plt.title(\"Y plot\")\n",
        "plt.xlim(0,7)\n",
        "plt.ylim(0,10)\n",
        "plt.xticks(np.arange(0,7,1))\n",
        "plt.legend()\n",
        "plt.xlabel(\"X\")\n",
        "plt.ylabel(\"Y\")\n",
        "plt.show()"
      ],
      "metadata": {
        "colab": {
          "base_uri": "https://localhost:8080/",
          "height": 642
        },
        "id": "JJ_gvTG7XJgs",
        "outputId": "dc4804b0-2df6-438e-8605-cee86dcd325c"
      },
      "execution_count": null,
      "outputs": [
        {
          "output_type": "stream",
          "name": "stdout",
          "text": [
            "   X  Y\n",
            "0  1  2\n",
            "1  2  1\n",
            "2  3  3\n",
            "3  4  6\n",
            "4  5  9\n",
            "Coefficients:  [[1.9]]\n",
            "Intercept:  [-1.5]\n",
            "   X  Y  Predicted Y    Accuracy\n",
            "0  1  2          0.4  -80.000000\n",
            "1  2  1          2.3  130.000000\n",
            "2  3  3          4.2   40.000000\n",
            "3  4  6          6.1    1.666667\n",
            "4  5  9          8.0  -11.111111\n",
            "Average Accuracy:  16.111111111111136\n",
            "\n",
            "Mean Absolute Error: 1.04\n",
            "Mean Squared Error: 1.3399999999999999\n",
            "Root Mean Squared Error: 1.1575836902790224\n",
            "R2-score: %.2f (RMSE): 0.8434579439252337\n"
          ]
        },
        {
          "output_type": "display_data",
          "data": {
            "text/plain": [
              "<Figure size 432x288 with 1 Axes>"
            ],
            "image/png": "[encoded data removed]"
          },
          "metadata": {
            "needs_background": "light"
          }
        }
      ]
    },
    {
      "cell_type": "markdown",
      "source": [
        "#(ii) Without Using sklearn"
      ],
      "metadata": {
        "id": "zO3fbi3ha0IB"
      }
    },
    {
      "cell_type": "code",
      "source": [
        "datafile = pd.DataFrame()\n",
        "datafile[0]=[1,2,3,4,5]\n",
        "datafile[1]=[2,1,3,6,9]\n",
        "datafile.columns =[\"X\",\"Y\"]\n",
        "print(datafile)\n",
        "r=datafile['X'].corr(datafile['Y'])\n",
        "sdx=datafile['X'].std()\n",
        "sdy=datafile['Y'].std()\n",
        "b1=round((r*sdy)/sdx,2)\n",
        "print(r,sdx,sdy)\n",
        "b0=round((datafile['Y'].mean())-(b1*(datafile['X'].mean())),2)\n",
        "print ('Coefficients: ', b1)\n",
        "print ('Intercept: ',b0)\n",
        "P=[]\n",
        "d=0\n",
        "for i in datafile['X']:\n",
        "  c=(b0+(b1*i))\n",
        "  P.insert(d,c)\n",
        "  d+=1\n",
        "datafile['Predicted Y']=P\n",
        "A=[]\n",
        "d=0\n",
        "for i in datafile['X']:\n",
        "  j=datafile.loc[d,'Y']\n",
        "  k=datafile.loc[d,'Predicted Y']\n",
        "  c=((k-j)/j)*100\n",
        "  A.insert(d,c)\n",
        "  d+=1\n",
        "datafile['Accuracy']=A\n",
        "print(datafile)\n",
        "print(\"Average Accuracy: \",datafile['Accuracy'].mean())\n",
        "from sklearn.metrics import r2_score\n",
        "print(\"R2-score: %.2f (RMSE):\" , r2_score(datafile['Y'],datafile['Predicted Y']))\n"
      ],
      "metadata": {
        "colab": {
          "base_uri": "https://localhost:8080/"
        },
        "id": "QJ6P4sddWoTy",
        "outputId": "075fb7e7-740a-4904-c347-c650a2e38bba"
      },
      "execution_count": null,
      "outputs": [
        {
          "output_type": "stream",
          "name": "stdout",
          "text": [
            "   X  Y\n",
            "0  1  2\n",
            "1  2  1\n",
            "2  3  3\n",
            "3  4  6\n",
            "4  5  9\n",
            "0.9183996645933804 1.5811388300841898 3.271085446759225\n",
            "Coefficients:  1.9\n",
            "Intercept:  -1.5\n",
            "   X  Y  Predicted Y    Accuracy\n",
            "0  1  2          0.4  -80.000000\n",
            "1  2  1          2.3  130.000000\n",
            "2  3  3          4.2   40.000000\n",
            "3  4  6          6.1    1.666667\n",
            "4  5  9          8.0  -11.111111\n",
            "Average Accuracy:  16.111111111111097\n",
            "R2-score: %.2f (RMSE): 0.8434579439252337\n"
          ]
        }
      ]
    },
    {
      "cell_type": "markdown",
      "source": [
        "#Question 2:Take any 5 courses, consider its CAT 1 marks as x values and FAT marks and y values.Apply linear regression and predict the FAT marks (y value) for any of the course's (6th course) CAT 1 marks which is not considered for training.Compare the actual Y and the predicted Y for the 6th course."
      ],
      "metadata": {
        "id": "S1cjR_-ccWrI"
      }
    },
    {
      "cell_type": "code",
      "source": [
        "course=pd.DataFrame()\n",
        "course[0]=['Java','Microprossor','CPS','DAA','DSA']\n",
        "course[1]=[26,41,28,37,35]\n",
        "course[2]=[70,75,52,80,60]\n",
        "course.columns =[\"Course\",\"CAT\",\"FAT\"]\n",
        "course6=\"STS\"\n",
        "course6cat=38\n",
        "course6fat=65\n",
        "print(course)"
      ],
      "metadata": {
        "colab": {
          "base_uri": "https://localhost:8080/"
        },
        "id": "1XvZvh7yciHF",
        "outputId": "97d6ecc3-2fd8-4831-b6b8-939aaef0a7ca"
      },
      "execution_count": null,
      "outputs": [
        {
          "output_type": "stream",
          "name": "stdout",
          "text": [
            "         Course  CAT  FAT\n",
            "0          Java   26   70\n",
            "1  Microprossor   41   75\n",
            "2           CPS   28   52\n",
            "3           DAA   37   80\n",
            "4           DSA   35   60\n"
          ]
        }
      ]
    },
    {
      "cell_type": "markdown",
      "source": [
        "#With sklearn"
      ],
      "metadata": {
        "id": "soN3zPvQenrB"
      }
    },
    {
      "cell_type": "code",
      "source": [
        "from sklearn import linear_model\n",
        "regress = linear_model.LinearRegression()\n",
        "train_x = np.asanyarray(course[['CAT']])\n",
        "train_y = np.asanyarray(course[['FAT']])\n",
        "regress.fit (train_x,train_y)\n",
        "print ('Coefficients: ', regress.coef_)\n",
        "print ('Intercept: ',regress.intercept_)\n",
        "y_predicted = regress.predict(train_x)\n",
        "course['Predicted FAT'] = y_predicted\n",
        "A=[]\n",
        "d=0\n",
        "for i in course['CAT']:\n",
        "  j=course.loc[d,'FAT']\n",
        "  k=course.loc[d,'Predicted FAT']\n",
        "  c=((k-j)/j)*100\n",
        "  A.insert(d,c)\n",
        "  d+=1\n",
        "course['Accuracy']=A\n",
        "print(course)\n",
        "print(\"Average Accuracy: \",course['Accuracy'].mean())\n",
        "from sklearn.metrics import r2_score\n",
        "print(\"R2-score: %.2f (RMSE):\" , r2_score(course['FAT'],course['Predicted FAT']),'\\n')\n",
        "\n",
        "pcourse6fat=(course6cat*regress.coef_)+regress.intercept_\n",
        "print(\"For \",course6,\" Predicted Fat marks is \",pcourse6fat)\n",
        "print(\"Difference in actual Fat marks and Predicted Fat marks is: \",(course6fat-pcourse6fat))"
      ],
      "metadata": {
        "colab": {
          "base_uri": "https://localhost:8080/"
        },
        "id": "IapE0g0Kemm2",
        "outputId": "8ac0975a-a477-44e7-c20a-d32e682b6cda"
      },
      "execution_count": null,
      "outputs": [
        {
          "output_type": "stream",
          "name": "stdout",
          "text": [
            "Coefficients:  [[0.98727735]]\n",
            "Intercept:  [34.42493639]\n",
            "         Course  CAT  FAT  Predicted FAT   Accuracy\n",
            "0          Java   26   70      60.094148 -14.151218\n",
            "1  Microprossor   41   75      74.903308  -0.128923\n",
            "2           CPS   28   52      62.068702  19.362889\n",
            "3           DAA   37   80      70.954198 -11.307252\n",
            "4           DSA   35   60      68.979644  14.966073\n",
            "Average Accuracy:  1.7483138998406311\n",
            "R2-score: %.2f (RMSE): 0.29740963760213635 \n",
            "\n",
            "For  STS  Predicted Fat marks is  [[71.94147583]]\n",
            "Difference in actual Fat marks and Predicted Fat marks is:  [[-6.94147583]]\n"
          ]
        }
      ]
    },
    {
      "cell_type": "markdown",
      "source": [
        "#Without sklearn"
      ],
      "metadata": {
        "id": "nK7nEomxeoMF"
      }
    },
    {
      "cell_type": "code",
      "source": [
        "r=course['CAT'].corr(course['FAT'])\n",
        "sdx=course['CAT'].std()\n",
        "sdy=course['FAT'].std()\n",
        "b1=round((r*sdy)/sdx,2)\n",
        "b0=round((course['FAT'].mean())-(b1*(course['CAT'].mean())),2)\n",
        "print ('Coefficients: ', b1)\n",
        "print ('Intercept: ',b0)\n",
        "P=[]\n",
        "d=0\n",
        "for i in course['CAT']:\n",
        "  c=(b0+(b1*i))\n",
        "  P.insert(d,c)\n",
        "  d+=1\n",
        "course['Predicted FAT']=P\n",
        "A=[]\n",
        "d=0\n",
        "for i in course['CAT']:\n",
        "  j=course.loc[d,'FAT']\n",
        "  k=course.loc[d,'Predicted FAT']\n",
        "  c=((k-j)/j)*100\n",
        "  A.insert(d,c)\n",
        "  d+=1\n",
        "course['Accuracy']=A\n",
        "print(course)\n",
        "print(\"Average Accuracy: \",course['Accuracy'].mean())\n",
        "from sklearn.metrics import r2_score\n",
        "print(\"R2-score: %.2f (RMSE):\" , r2_score(course['FAT'],course['Predicted FAT']))\n",
        "\n",
        "pcourse6fat=(course6cat*b1)+b0\n",
        "print(\"\\nFor \",course6,\" Predicted Fat marks is \",pcourse6fat)\n",
        "print(\"Difference in actual Fat marks and Predicted Fat marks is: \",(course6fat-pcourse6fat))\n"
      ],
      "metadata": {
        "colab": {
          "base_uri": "https://localhost:8080/"
        },
        "id": "qbG0w8qchuGj",
        "outputId": "e8aa5140-32f9-4400-a60a-d04df610e7cc"
      },
      "execution_count": null,
      "outputs": [
        {
          "output_type": "stream",
          "name": "stdout",
          "text": [
            "Coefficients:  0.99\n",
            "Intercept:  34.33\n",
            "         Course  CAT  FAT  Predicted FAT   Accuracy\n",
            "0          Java   26   70          60.07 -14.185714\n",
            "1  Microprossor   41   75          74.92  -0.106667\n",
            "2           CPS   28   52          62.05  19.326923\n",
            "3           DAA   37   80          70.96 -11.300000\n",
            "4           DSA   35   60          68.98  14.966667\n",
            "Average Accuracy:  1.7402417582417509\n",
            "R2-score: %.2f (RMSE): 0.29740722049689494\n",
            "\n",
            "For  STS  Predicted Fat marks is  71.94999999999999\n",
            "Difference in actual Fat marks and Predicted Fat marks is:  -6.949999999999989\n"
          ]
        }
      ]
    }
  ]
}